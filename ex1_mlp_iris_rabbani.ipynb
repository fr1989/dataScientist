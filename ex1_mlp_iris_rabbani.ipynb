{
  "cells": [
    {
      "cell_type": "markdown",
      "metadata": {
        "id": "view-in-github",
        "colab_type": "text"
      },
      "source": [
        "<a href=\"https://colab.research.google.com/github/fr1989/dataScientist/blob/main/ex1_mlp_iris_rabbani.ipynb\" target=\"_parent\"><img src=\"https://colab.research.google.com/assets/colab-badge.svg\" alt=\"Open In Colab\"/></a>"
      ]
    },
    {
      "cell_type": "markdown",
      "metadata": {
        "id": "tXhRbi9BcUiS"
      },
      "source": [
        "<center><div style=\"direction:rtl;font-family:B Lotus, B Nazanin, Tahoma\">به نام خدا</div></center>\n",
        "\n",
        "<h1><center><div style=\"direction:rtl;font-family:B Lotus, B Nazanin, Tahoma\">تمرین عملی 1: طبقه بندی با شبکه های تمام متصل روی مجموعه داده IRIS</div></center></h1>"
      ]
    },
    {
      "cell_type": "markdown",
      "metadata": {
        "id": "hYL04KAOcUiX"
      },
      "source": [
        "## <div style=\"direction:rtl;text-align:right;font-family:B Lotus, B Nazanin, Tahoma\">صورت مساله</div>\n",
        "\n",
        "\n",
        "<div style=\"direction:rtl;text-align:right;font-family:Tahoma\">\n",
        "در اولین جلسه کارگاه طبقه بندی با شبکه های تمام متصل را دیدیم.\n",
        "<br>\n",
        "توصیه می‌شود حتما نوت بوک‌های زیر را قبل از این تمرین مرور کنید:\n",
        "</div>\n",
        "\n",
        "[04_a Gentle Introduction to Keras - Simple neural network(mlp).ipynb](https://nbviewer.jupyter.org/github/alireza-akhavan/SRU-deeplearning-workshop/blob/master/04_a%20Gentle%20Introduction%20to%20Keras%20-%20Simple%20neural%20network%28mlp%29.ipynb)\n",
        "\n",
        "[05_Dropout.ipynb](https://nbviewer.jupyter.org/github/alireza-akhavan/SRU-deeplearning-workshop/blob/master/05_Dropout.ipynb)\n",
        "\n",
        "<div style=\"direction:rtl;text-align:right;font-family:Tahoma\">\n",
        "در این جلسه با داده های تصویری آشنا شدیم. اما در این تمرین برای اینکه بدانیم کاربرد این مباحث در مسائل غیر تصویری نیز هست  از مجموعه داده ی ساختار یافتهiris  شامل 4 ویژگی برای طول و عرض کاسبرگ و گلبرگ استفاده خواهیم کرد که بتوانیم بر اساس این ویژگی ها نوع گل را از 3 کلاس متفاوت تشخیص دهیم.\n",
        "</div>"
      ]
    },
    {
      "cell_type": "markdown",
      "metadata": {
        "id": "R9X2gR4hcUiY"
      },
      "source": [
        "## <div style=\"direction:rtl;text-align:right;font-family:B Lotus, B Nazanin, Tahoma\">لود کتابخانه های مورد نیاز </div>\n",
        "<div style=\"direction:rtl;text-align:right;font-family:Tahoma\">\n",
        "کتابخانه های مورد نیاز این تمرین لود شده اند\n",
        "<br>\n",
        "در صورت نیاز میتوانید کتابخانه های بیشتری لود کنید:\n",
        "</div>"
      ]
    },
    {
      "cell_type": "code",
      "execution_count": 1,
      "metadata": {
        "id": "pewKnlw2cUiZ"
      },
      "outputs": [],
      "source": [
        "import numpy as np\n",
        "from tensorflow import keras\n",
        "from sklearn.datasets import load_iris\n",
        "from sklearn.model_selection import train_test_split\n",
        "from keras.models import Sequential\n",
        "from keras.layers import Dense, Dropout\n",
        "from tensorflow.keras.optimizers import Adam"
      ]
    },
    {
      "cell_type": "markdown",
      "metadata": {
        "id": "Qjw-XV5WcUib"
      },
      "source": [
        "<div style=\"direction:rtl;text-align:right;font-family:Tahoma\">\n",
        "در این تمرین میخواهیم از مجموعه داده iris استفاده کنیم.\n",
        "<br>\n",
        "توضیحات این مجموعه داده در سایت آن موجود است:\n",
        "</div>\n",
        "\n",
        "https://archive.ics.uci.edu/ml/datasets/iris\n",
        "\n",
        "\n",
        "<div style=\"direction:rtl;text-align:right;font-family:Tahoma\">\n",
        "ویژگی ها و کلاس های این مجموعه داده به شرح زیر است:\n",
        "</div>\n",
        "\n",
        "Attribute Information:\n",
        "\n",
        "1. sepal length in cm\n",
        "2. sepal width in cm\n",
        "3. petal length in cm\n",
        "4. petal width in cm\n",
        "\n",
        "class:\n",
        "\n",
        "    Iris Setosa\n",
        "    Iris Versicolour\n",
        "    Iris Virginica\n",
        "\n",
        "<div style=\"direction:rtl;text-align:right;font-family:Tahoma\">\n",
        "این دیتاست در کتابخانه sklearn موجود است\n",
        "<br>\n",
        "در قطعه کد زیر ویژگی ها را در x و برچسب یا labelهای متناظر را در y لود شده است.\n",
        "</div>"
      ]
    },
    {
      "cell_type": "code",
      "execution_count": 4,
      "metadata": {
        "id": "AjwILZ80cUib"
      },
      "outputs": [],
      "source": [
        "iris_data = load_iris() # load the iris dataset\n",
        "x = iris_data.data\n",
        "y = iris_data.target.reshape(-1, 1) # Convert data to a single column"
      ]
    },
    {
      "cell_type": "markdown",
      "metadata": {
        "id": "9tLyPOL2cUic"
      },
      "source": [
        "# <div style=\"direction:rtl;text-align:right;font-family:B Lotus, B Nazanin, Tahoma\">سوال 1:</div>\n",
        "<div style=\"direction:rtl;text-align:right;font-family:Tahoma\">\n",
        "برچسب یا label های ما در حال حاضر عددی است.\n",
        "<br>\n",
        "این اعداد 0 تا 2 هستند و به عبارتی 3 حالت مختلف دارند.\n",
        "<br>\n",
        "این برچسب ها را به فرمت one-hot تبدیل کنید و خروجی را مجدد در y بریزید.\n",
        "\n",
        "<br>\n",
        "<b>راهنمایی: </b>\n",
        "از تابع keras.utils.to_categorical استفاده کنید.\n",
        "</div>"
      ]
    },
    {
      "cell_type": "code",
      "execution_count": 5,
      "metadata": {
        "id": "zYqhrI4xcUid"
      },
      "outputs": [],
      "source": [
        "from tensorflow import keras\n",
        "y = keras.utils.to_categorical(y,num_classes=3)"
      ]
    },
    {
      "cell_type": "markdown",
      "metadata": {
        "id": "E0cUBzvzcUie"
      },
      "source": [
        "<div style=\"direction:rtl;text-align:right;font-family:Tahoma\">\n",
        "در زیر داده ها  به داده های test و train تقسیم شده است:\n",
        "</div>"
      ]
    },
    {
      "cell_type": "code",
      "execution_count": 11,
      "metadata": {
        "id": "TOeBzMGvcUie"
      },
      "outputs": [],
      "source": [
        "# Split the data for training and testing\n",
        "train_x, test_x, train_y, test_y = train_test_split(x, y, test_size=0.20)"
      ]
    },
    {
      "cell_type": "markdown",
      "metadata": {
        "id": "5MFlQlwfcUif"
      },
      "source": [
        "# <div style=\"direction:rtl;text-align:right;font-family:B Lotus, B Nazanin, Tahoma\">سوال 2:</div>\n",
        "<div style=\"direction:rtl;text-align:right;font-family:Tahoma\">\n",
        "یک شبکه با دو hidden-layer در هر لایه 10 نوران و تابع فعالیت relu بسازید. یک لایه Dropout با نرخ 0.5 در لایه آخر ماقبل softmax نیز اضافه کنید.\n",
        "</div>"
      ]
    },
    {
      "cell_type": "code",
      "execution_count": 13,
      "metadata": {
        "id": "nQeemj5lcUif"
      },
      "outputs": [],
      "source": [
        "# Build the model\n",
        "model = Sequential()\n",
        "model.add(Dense(10, activation='relu', input_dim=4))\n",
        "model.add(Dense(10, activation='relu'))\n",
        "model.add(Dropout(0.5))\n",
        "model.add(Dense(3, activation='softmax'))"
      ]
    },
    {
      "cell_type": "code",
      "execution_count": 14,
      "metadata": {
        "id": "c5zPQxZtcUig",
        "outputId": "2250435c-684f-4959-f88a-ae71d22d64b3",
        "colab": {
          "base_uri": "https://localhost:8080/"
        }
      },
      "outputs": [
        {
          "output_type": "stream",
          "name": "stdout",
          "text": [
            "Model: \"sequential\"\n",
            "_________________________________________________________________\n",
            " Layer (type)                Output Shape              Param #   \n",
            "=================================================================\n",
            " dense (Dense)               (None, 10)                50        \n",
            "                                                                 \n",
            " dense_1 (Dense)             (None, 10)                110       \n",
            "                                                                 \n",
            " dropout (Dropout)           (None, 10)                0         \n",
            "                                                                 \n",
            " dense_2 (Dense)             (None, 3)                 33        \n",
            "                                                                 \n",
            "=================================================================\n",
            "Total params: 193 (772.00 Byte)\n",
            "Trainable params: 193 (772.00 Byte)\n",
            "Non-trainable params: 0 (0.00 Byte)\n",
            "_________________________________________________________________\n"
          ]
        }
      ],
      "source": [
        "model.summary()"
      ]
    },
    {
      "cell_type": "markdown",
      "metadata": {
        "id": "rSO8idnQcUig"
      },
      "source": [
        "<div style=\"direction:rtl;text-align:right;font-family:Tahoma\">در زیر مدل کامپایل شده است.</div>"
      ]
    },
    {
      "cell_type": "code",
      "execution_count": 15,
      "metadata": {
        "id": "4JDTiDOzcUig",
        "colab": {
          "base_uri": "https://localhost:8080/"
        },
        "outputId": "62919b8e-f380-4e19-c3f8-e5040fd6e345"
      },
      "outputs": [
        {
          "output_type": "stream",
          "name": "stderr",
          "text": [
            "WARNING:absl:`lr` is deprecated in Keras optimizer, please use `learning_rate` or use the legacy optimizer, e.g.,tf.keras.optimizers.legacy.Adam.\n"
          ]
        }
      ],
      "source": [
        "# Adam optimizer with learning rate of 0.001\n",
        "optimizer = Adam(lr=0.001)\n",
        "model.compile(optimizer, loss='categorical_crossentropy', metrics=['accuracy'])"
      ]
    },
    {
      "cell_type": "markdown",
      "metadata": {
        "id": "GpBoBI-scUih"
      },
      "source": [
        "# <div style=\"direction:rtl;text-align:right;font-family:B Lotus, B Nazanin, Tahoma\">سوال 3:</div>\n",
        "<div style=\"direction:rtl;text-align:right;font-family:Tahoma\">\n",
        "مدل را با  batch_size=5 و تعداد 200 ایپاک آموزش دهید.\n",
        "<br>\n",
        "<b>راهنمایی: </b>\n",
        "از تابع model.fit استفاده کنید.\n",
        "</div>"
      ]
    },
    {
      "cell_type": "code",
      "execution_count": 16,
      "metadata": {
        "id": "JbNa6LfscUih",
        "outputId": "73371fa9-1b49-4415-c423-9ee606f90105",
        "colab": {
          "base_uri": "https://localhost:8080/"
        }
      },
      "outputs": [
        {
          "output_type": "stream",
          "name": "stdout",
          "text": [
            "Epoch 1/200\n",
            "24/24 [==============================] - 1s 2ms/step - loss: 1.2078 - accuracy: 0.3083\n",
            "Epoch 2/200\n",
            "24/24 [==============================] - 0s 2ms/step - loss: 1.0898 - accuracy: 0.3333\n",
            "Epoch 3/200\n",
            "24/24 [==============================] - 0s 2ms/step - loss: 1.0882 - accuracy: 0.3333\n",
            "Epoch 4/200\n",
            "24/24 [==============================] - 0s 2ms/step - loss: 1.0659 - accuracy: 0.3167\n",
            "Epoch 5/200\n",
            "24/24 [==============================] - 0s 2ms/step - loss: 1.0551 - accuracy: 0.3167\n",
            "Epoch 6/200\n",
            "24/24 [==============================] - 0s 2ms/step - loss: 1.0090 - accuracy: 0.3833\n",
            "Epoch 7/200\n",
            "24/24 [==============================] - 0s 2ms/step - loss: 0.9957 - accuracy: 0.4417\n",
            "Epoch 8/200\n",
            "24/24 [==============================] - 0s 2ms/step - loss: 0.9444 - accuracy: 0.5167\n",
            "Epoch 9/200\n",
            "24/24 [==============================] - 0s 2ms/step - loss: 0.9410 - accuracy: 0.3917\n",
            "Epoch 10/200\n",
            "24/24 [==============================] - 0s 2ms/step - loss: 0.9243 - accuracy: 0.4833\n",
            "Epoch 11/200\n",
            "24/24 [==============================] - 0s 2ms/step - loss: 0.8463 - accuracy: 0.5167\n",
            "Epoch 12/200\n",
            "24/24 [==============================] - 0s 2ms/step - loss: 0.8271 - accuracy: 0.5333\n",
            "Epoch 13/200\n",
            "24/24 [==============================] - 0s 2ms/step - loss: 0.8020 - accuracy: 0.5833\n",
            "Epoch 14/200\n",
            "24/24 [==============================] - 0s 2ms/step - loss: 0.7427 - accuracy: 0.6917\n",
            "Epoch 15/200\n",
            "24/24 [==============================] - 0s 2ms/step - loss: 0.7598 - accuracy: 0.6750\n",
            "Epoch 16/200\n",
            "24/24 [==============================] - 0s 1ms/step - loss: 0.6899 - accuracy: 0.7667\n",
            "Epoch 17/200\n",
            "24/24 [==============================] - 0s 2ms/step - loss: 0.6855 - accuracy: 0.6750\n",
            "Epoch 18/200\n",
            "24/24 [==============================] - 0s 2ms/step - loss: 0.6367 - accuracy: 0.7083\n",
            "Epoch 19/200\n",
            "24/24 [==============================] - 0s 2ms/step - loss: 0.6386 - accuracy: 0.7167\n",
            "Epoch 20/200\n",
            "24/24 [==============================] - 0s 2ms/step - loss: 0.6624 - accuracy: 0.6917\n",
            "Epoch 21/200\n",
            "24/24 [==============================] - 0s 2ms/step - loss: 0.6519 - accuracy: 0.6833\n",
            "Epoch 22/200\n",
            "24/24 [==============================] - 0s 2ms/step - loss: 0.6407 - accuracy: 0.7000\n",
            "Epoch 23/200\n",
            "24/24 [==============================] - 0s 2ms/step - loss: 0.5901 - accuracy: 0.7250\n",
            "Epoch 24/200\n",
            "24/24 [==============================] - 0s 2ms/step - loss: 0.5566 - accuracy: 0.7583\n",
            "Epoch 25/200\n",
            "24/24 [==============================] - 0s 2ms/step - loss: 0.5806 - accuracy: 0.7750\n",
            "Epoch 26/200\n",
            "24/24 [==============================] - 0s 3ms/step - loss: 0.5940 - accuracy: 0.7083\n",
            "Epoch 27/200\n",
            "24/24 [==============================] - 0s 2ms/step - loss: 0.5660 - accuracy: 0.7750\n",
            "Epoch 28/200\n",
            "24/24 [==============================] - 0s 2ms/step - loss: 0.4990 - accuracy: 0.7667\n",
            "Epoch 29/200\n",
            "24/24 [==============================] - 0s 2ms/step - loss: 0.5294 - accuracy: 0.7417\n",
            "Epoch 30/200\n",
            "24/24 [==============================] - 0s 2ms/step - loss: 0.5864 - accuracy: 0.7167\n",
            "Epoch 31/200\n",
            "24/24 [==============================] - 0s 2ms/step - loss: 0.4900 - accuracy: 0.7833\n",
            "Epoch 32/200\n",
            "24/24 [==============================] - 0s 3ms/step - loss: 0.5757 - accuracy: 0.7500\n",
            "Epoch 33/200\n",
            "24/24 [==============================] - 0s 3ms/step - loss: 0.5321 - accuracy: 0.7917\n",
            "Epoch 34/200\n",
            "24/24 [==============================] - 0s 2ms/step - loss: 0.5205 - accuracy: 0.7667\n",
            "Epoch 35/200\n",
            "24/24 [==============================] - 0s 3ms/step - loss: 0.5393 - accuracy: 0.7250\n",
            "Epoch 36/200\n",
            "24/24 [==============================] - 0s 3ms/step - loss: 0.5215 - accuracy: 0.7583\n",
            "Epoch 37/200\n",
            "24/24 [==============================] - 0s 3ms/step - loss: 0.5540 - accuracy: 0.7333\n",
            "Epoch 38/200\n",
            "24/24 [==============================] - 0s 2ms/step - loss: 0.5036 - accuracy: 0.7750\n",
            "Epoch 39/200\n",
            "24/24 [==============================] - 0s 3ms/step - loss: 0.5246 - accuracy: 0.7417\n",
            "Epoch 40/200\n",
            "24/24 [==============================] - 0s 3ms/step - loss: 0.5199 - accuracy: 0.7417\n",
            "Epoch 41/200\n",
            "24/24 [==============================] - 0s 3ms/step - loss: 0.4872 - accuracy: 0.7917\n",
            "Epoch 42/200\n",
            "24/24 [==============================] - 0s 3ms/step - loss: 0.4964 - accuracy: 0.7167\n",
            "Epoch 43/200\n",
            "24/24 [==============================] - 0s 3ms/step - loss: 0.5163 - accuracy: 0.7083\n",
            "Epoch 44/200\n",
            "24/24 [==============================] - 0s 2ms/step - loss: 0.4436 - accuracy: 0.7750\n",
            "Epoch 45/200\n",
            "24/24 [==============================] - 0s 2ms/step - loss: 0.4572 - accuracy: 0.7417\n",
            "Epoch 46/200\n",
            "24/24 [==============================] - 0s 3ms/step - loss: 0.4741 - accuracy: 0.7167\n",
            "Epoch 47/200\n",
            "24/24 [==============================] - 0s 2ms/step - loss: 0.4859 - accuracy: 0.7833\n",
            "Epoch 48/200\n",
            "24/24 [==============================] - 0s 2ms/step - loss: 0.4904 - accuracy: 0.7417\n",
            "Epoch 49/200\n",
            "24/24 [==============================] - 0s 2ms/step - loss: 0.5343 - accuracy: 0.7333\n",
            "Epoch 50/200\n",
            "24/24 [==============================] - 0s 2ms/step - loss: 0.4446 - accuracy: 0.8167\n",
            "Epoch 51/200\n",
            "24/24 [==============================] - 0s 2ms/step - loss: 0.4727 - accuracy: 0.7667\n",
            "Epoch 52/200\n",
            "24/24 [==============================] - 0s 2ms/step - loss: 0.4514 - accuracy: 0.8250\n",
            "Epoch 53/200\n",
            "24/24 [==============================] - 0s 3ms/step - loss: 0.5685 - accuracy: 0.7333\n",
            "Epoch 54/200\n",
            "24/24 [==============================] - 0s 2ms/step - loss: 0.4873 - accuracy: 0.7667\n",
            "Epoch 55/200\n",
            "24/24 [==============================] - 0s 2ms/step - loss: 0.4451 - accuracy: 0.7750\n",
            "Epoch 56/200\n",
            "24/24 [==============================] - 0s 2ms/step - loss: 0.4647 - accuracy: 0.8083\n",
            "Epoch 57/200\n",
            "24/24 [==============================] - 0s 2ms/step - loss: 0.4428 - accuracy: 0.7917\n",
            "Epoch 58/200\n",
            "24/24 [==============================] - 0s 2ms/step - loss: 0.4194 - accuracy: 0.8333\n",
            "Epoch 59/200\n",
            "24/24 [==============================] - 0s 2ms/step - loss: 0.4315 - accuracy: 0.8083\n",
            "Epoch 60/200\n",
            "24/24 [==============================] - 0s 3ms/step - loss: 0.4595 - accuracy: 0.7750\n",
            "Epoch 61/200\n",
            "24/24 [==============================] - 0s 3ms/step - loss: 0.5243 - accuracy: 0.6917\n",
            "Epoch 62/200\n",
            "24/24 [==============================] - 0s 3ms/step - loss: 0.4474 - accuracy: 0.7583\n",
            "Epoch 63/200\n",
            "24/24 [==============================] - 0s 2ms/step - loss: 0.3944 - accuracy: 0.8167\n",
            "Epoch 64/200\n",
            "24/24 [==============================] - 0s 3ms/step - loss: 0.4315 - accuracy: 0.7833\n",
            "Epoch 65/200\n",
            "24/24 [==============================] - 0s 3ms/step - loss: 0.3752 - accuracy: 0.8500\n",
            "Epoch 66/200\n",
            "24/24 [==============================] - 0s 3ms/step - loss: 0.3929 - accuracy: 0.8083\n",
            "Epoch 67/200\n",
            "24/24 [==============================] - 0s 3ms/step - loss: 0.4843 - accuracy: 0.7417\n",
            "Epoch 68/200\n",
            "24/24 [==============================] - 0s 2ms/step - loss: 0.3731 - accuracy: 0.8250\n",
            "Epoch 69/200\n",
            "24/24 [==============================] - 0s 2ms/step - loss: 0.3788 - accuracy: 0.8167\n",
            "Epoch 70/200\n",
            "24/24 [==============================] - 0s 2ms/step - loss: 0.4650 - accuracy: 0.7500\n",
            "Epoch 71/200\n",
            "24/24 [==============================] - 0s 2ms/step - loss: 0.4851 - accuracy: 0.7833\n",
            "Epoch 72/200\n",
            "24/24 [==============================] - 0s 2ms/step - loss: 0.4586 - accuracy: 0.7667\n",
            "Epoch 73/200\n",
            "24/24 [==============================] - 0s 2ms/step - loss: 0.5100 - accuracy: 0.7000\n",
            "Epoch 74/200\n",
            "24/24 [==============================] - 0s 2ms/step - loss: 0.4483 - accuracy: 0.8083\n",
            "Epoch 75/200\n",
            "24/24 [==============================] - 0s 3ms/step - loss: 0.4049 - accuracy: 0.8500\n",
            "Epoch 76/200\n",
            "24/24 [==============================] - 0s 3ms/step - loss: 0.4457 - accuracy: 0.8000\n",
            "Epoch 77/200\n",
            "24/24 [==============================] - 0s 2ms/step - loss: 0.4521 - accuracy: 0.8000\n",
            "Epoch 78/200\n",
            "24/24 [==============================] - 0s 2ms/step - loss: 0.5028 - accuracy: 0.7667\n",
            "Epoch 79/200\n",
            "24/24 [==============================] - 0s 2ms/step - loss: 0.4842 - accuracy: 0.7750\n",
            "Epoch 80/200\n",
            "24/24 [==============================] - 0s 2ms/step - loss: 0.3667 - accuracy: 0.8250\n",
            "Epoch 81/200\n",
            "24/24 [==============================] - 0s 3ms/step - loss: 0.3688 - accuracy: 0.8083\n",
            "Epoch 82/200\n",
            "24/24 [==============================] - 0s 2ms/step - loss: 0.4075 - accuracy: 0.7917\n",
            "Epoch 83/200\n",
            "24/24 [==============================] - 0s 3ms/step - loss: 0.3930 - accuracy: 0.8167\n",
            "Epoch 84/200\n",
            "24/24 [==============================] - 0s 2ms/step - loss: 0.4453 - accuracy: 0.7917\n",
            "Epoch 85/200\n",
            "24/24 [==============================] - 0s 3ms/step - loss: 0.4327 - accuracy: 0.7833\n",
            "Epoch 86/200\n",
            "24/24 [==============================] - 0s 2ms/step - loss: 0.3491 - accuracy: 0.8333\n",
            "Epoch 87/200\n",
            "24/24 [==============================] - 0s 3ms/step - loss: 0.4499 - accuracy: 0.7750\n",
            "Epoch 88/200\n",
            "24/24 [==============================] - 0s 2ms/step - loss: 0.4975 - accuracy: 0.7667\n",
            "Epoch 89/200\n",
            "24/24 [==============================] - 0s 2ms/step - loss: 0.4064 - accuracy: 0.8000\n",
            "Epoch 90/200\n",
            "24/24 [==============================] - 0s 2ms/step - loss: 0.4933 - accuracy: 0.7667\n",
            "Epoch 91/200\n",
            "24/24 [==============================] - 0s 2ms/step - loss: 0.3801 - accuracy: 0.8500\n",
            "Epoch 92/200\n",
            "24/24 [==============================] - 0s 2ms/step - loss: 0.3497 - accuracy: 0.8333\n",
            "Epoch 93/200\n",
            "24/24 [==============================] - 0s 2ms/step - loss: 0.4203 - accuracy: 0.8250\n",
            "Epoch 94/200\n",
            "24/24 [==============================] - 0s 2ms/step - loss: 0.3929 - accuracy: 0.8250\n",
            "Epoch 95/200\n",
            "24/24 [==============================] - 0s 2ms/step - loss: 0.3965 - accuracy: 0.8167\n",
            "Epoch 96/200\n",
            "24/24 [==============================] - 0s 2ms/step - loss: 0.3102 - accuracy: 0.8667\n",
            "Epoch 97/200\n",
            "24/24 [==============================] - 0s 2ms/step - loss: 0.4218 - accuracy: 0.8250\n",
            "Epoch 98/200\n",
            "24/24 [==============================] - 0s 2ms/step - loss: 0.3835 - accuracy: 0.8250\n",
            "Epoch 99/200\n",
            "24/24 [==============================] - 0s 2ms/step - loss: 0.4826 - accuracy: 0.7917\n",
            "Epoch 100/200\n",
            "24/24 [==============================] - 0s 2ms/step - loss: 0.4087 - accuracy: 0.8250\n",
            "Epoch 101/200\n",
            "24/24 [==============================] - 0s 2ms/step - loss: 0.4207 - accuracy: 0.8167\n",
            "Epoch 102/200\n",
            "24/24 [==============================] - 0s 2ms/step - loss: 0.4670 - accuracy: 0.7667\n",
            "Epoch 103/200\n",
            "24/24 [==============================] - 0s 2ms/step - loss: 0.3699 - accuracy: 0.8250\n",
            "Epoch 104/200\n",
            "24/24 [==============================] - 0s 2ms/step - loss: 0.4209 - accuracy: 0.7917\n",
            "Epoch 105/200\n",
            "24/24 [==============================] - 0s 2ms/step - loss: 0.3584 - accuracy: 0.8333\n",
            "Epoch 106/200\n",
            "24/24 [==============================] - 0s 2ms/step - loss: 0.3910 - accuracy: 0.8083\n",
            "Epoch 107/200\n",
            "24/24 [==============================] - 0s 2ms/step - loss: 0.4283 - accuracy: 0.8083\n",
            "Epoch 108/200\n",
            "24/24 [==============================] - 0s 2ms/step - loss: 0.4274 - accuracy: 0.7833\n",
            "Epoch 109/200\n",
            "24/24 [==============================] - 0s 2ms/step - loss: 0.4407 - accuracy: 0.7583\n",
            "Epoch 110/200\n",
            "24/24 [==============================] - 0s 2ms/step - loss: 0.4013 - accuracy: 0.8083\n",
            "Epoch 111/200\n",
            "24/24 [==============================] - 0s 2ms/step - loss: 0.3956 - accuracy: 0.8250\n",
            "Epoch 112/200\n",
            "24/24 [==============================] - 0s 2ms/step - loss: 0.4511 - accuracy: 0.7667\n",
            "Epoch 113/200\n",
            "24/24 [==============================] - 0s 2ms/step - loss: 0.4215 - accuracy: 0.7750\n",
            "Epoch 114/200\n",
            "24/24 [==============================] - 0s 2ms/step - loss: 0.3830 - accuracy: 0.8000\n",
            "Epoch 115/200\n",
            "24/24 [==============================] - 0s 2ms/step - loss: 0.3684 - accuracy: 0.8583\n",
            "Epoch 116/200\n",
            "24/24 [==============================] - 0s 2ms/step - loss: 0.4051 - accuracy: 0.8167\n",
            "Epoch 117/200\n",
            "24/24 [==============================] - 0s 2ms/step - loss: 0.4375 - accuracy: 0.8000\n",
            "Epoch 118/200\n",
            "24/24 [==============================] - 0s 2ms/step - loss: 0.4088 - accuracy: 0.8167\n",
            "Epoch 119/200\n",
            "24/24 [==============================] - 0s 2ms/step - loss: 0.4162 - accuracy: 0.8167\n",
            "Epoch 120/200\n",
            "24/24 [==============================] - 0s 2ms/step - loss: 0.4059 - accuracy: 0.8417\n",
            "Epoch 121/200\n",
            "24/24 [==============================] - 0s 2ms/step - loss: 0.3735 - accuracy: 0.8333\n",
            "Epoch 122/200\n",
            "24/24 [==============================] - 0s 2ms/step - loss: 0.3711 - accuracy: 0.8250\n",
            "Epoch 123/200\n",
            "24/24 [==============================] - 0s 2ms/step - loss: 0.4496 - accuracy: 0.7583\n",
            "Epoch 124/200\n",
            "24/24 [==============================] - 0s 2ms/step - loss: 0.3676 - accuracy: 0.8250\n",
            "Epoch 125/200\n",
            "24/24 [==============================] - 0s 2ms/step - loss: 0.4792 - accuracy: 0.7667\n",
            "Epoch 126/200\n",
            "24/24 [==============================] - 0s 2ms/step - loss: 0.3278 - accuracy: 0.8667\n",
            "Epoch 127/200\n",
            "24/24 [==============================] - 0s 2ms/step - loss: 0.4152 - accuracy: 0.7917\n",
            "Epoch 128/200\n",
            "24/24 [==============================] - 0s 2ms/step - loss: 0.4064 - accuracy: 0.8000\n",
            "Epoch 129/200\n",
            "24/24 [==============================] - 0s 2ms/step - loss: 0.4773 - accuracy: 0.7583\n",
            "Epoch 130/200\n",
            "24/24 [==============================] - 0s 2ms/step - loss: 0.3458 - accuracy: 0.8583\n",
            "Epoch 131/200\n",
            "24/24 [==============================] - 0s 2ms/step - loss: 0.3870 - accuracy: 0.8333\n",
            "Epoch 132/200\n",
            "24/24 [==============================] - 0s 2ms/step - loss: 0.3308 - accuracy: 0.8583\n",
            "Epoch 133/200\n",
            "24/24 [==============================] - 0s 2ms/step - loss: 0.3225 - accuracy: 0.8500\n",
            "Epoch 134/200\n",
            "24/24 [==============================] - 0s 2ms/step - loss: 0.3562 - accuracy: 0.8250\n",
            "Epoch 135/200\n",
            "24/24 [==============================] - 0s 2ms/step - loss: 0.4409 - accuracy: 0.7750\n",
            "Epoch 136/200\n",
            "24/24 [==============================] - 0s 2ms/step - loss: 0.2937 - accuracy: 0.8833\n",
            "Epoch 137/200\n",
            "24/24 [==============================] - 0s 2ms/step - loss: 0.4374 - accuracy: 0.8083\n",
            "Epoch 138/200\n",
            "24/24 [==============================] - 0s 2ms/step - loss: 0.3436 - accuracy: 0.8250\n",
            "Epoch 139/200\n",
            "24/24 [==============================] - 0s 2ms/step - loss: 0.4016 - accuracy: 0.8250\n",
            "Epoch 140/200\n",
            "24/24 [==============================] - 0s 2ms/step - loss: 0.3988 - accuracy: 0.7833\n",
            "Epoch 141/200\n",
            "24/24 [==============================] - 0s 2ms/step - loss: 0.3929 - accuracy: 0.8167\n",
            "Epoch 142/200\n",
            "24/24 [==============================] - 0s 2ms/step - loss: 0.3631 - accuracy: 0.8583\n",
            "Epoch 143/200\n",
            "24/24 [==============================] - 0s 2ms/step - loss: 0.3991 - accuracy: 0.8333\n",
            "Epoch 144/200\n",
            "24/24 [==============================] - 0s 2ms/step - loss: 0.4236 - accuracy: 0.7917\n",
            "Epoch 145/200\n",
            "24/24 [==============================] - 0s 2ms/step - loss: 0.3786 - accuracy: 0.8167\n",
            "Epoch 146/200\n",
            "24/24 [==============================] - 0s 2ms/step - loss: 0.4312 - accuracy: 0.8083\n",
            "Epoch 147/200\n",
            "24/24 [==============================] - 0s 2ms/step - loss: 0.3448 - accuracy: 0.8750\n",
            "Epoch 148/200\n",
            "24/24 [==============================] - 0s 2ms/step - loss: 0.3379 - accuracy: 0.8750\n",
            "Epoch 149/200\n",
            "24/24 [==============================] - 0s 2ms/step - loss: 0.3646 - accuracy: 0.8333\n",
            "Epoch 150/200\n",
            "24/24 [==============================] - 0s 2ms/step - loss: 0.4131 - accuracy: 0.7833\n",
            "Epoch 151/200\n",
            "24/24 [==============================] - 0s 2ms/step - loss: 0.3464 - accuracy: 0.8250\n",
            "Epoch 152/200\n",
            "24/24 [==============================] - 0s 2ms/step - loss: 0.3538 - accuracy: 0.8500\n",
            "Epoch 153/200\n",
            "24/24 [==============================] - 0s 2ms/step - loss: 0.4004 - accuracy: 0.7917\n",
            "Epoch 154/200\n",
            "24/24 [==============================] - 0s 2ms/step - loss: 0.4299 - accuracy: 0.8167\n",
            "Epoch 155/200\n",
            "24/24 [==============================] - 0s 2ms/step - loss: 0.4260 - accuracy: 0.7917\n",
            "Epoch 156/200\n",
            "24/24 [==============================] - 0s 2ms/step - loss: 0.4172 - accuracy: 0.8083\n",
            "Epoch 157/200\n",
            "24/24 [==============================] - 0s 2ms/step - loss: 0.3844 - accuracy: 0.8000\n",
            "Epoch 158/200\n",
            "24/24 [==============================] - 0s 2ms/step - loss: 0.3834 - accuracy: 0.8583\n",
            "Epoch 159/200\n",
            "24/24 [==============================] - 0s 2ms/step - loss: 0.2702 - accuracy: 0.8833\n",
            "Epoch 160/200\n",
            "24/24 [==============================] - 0s 2ms/step - loss: 0.4544 - accuracy: 0.7583\n",
            "Epoch 161/200\n",
            "24/24 [==============================] - 0s 2ms/step - loss: 0.3750 - accuracy: 0.8333\n",
            "Epoch 162/200\n",
            "24/24 [==============================] - 0s 2ms/step - loss: 0.3110 - accuracy: 0.8583\n",
            "Epoch 163/200\n",
            "24/24 [==============================] - 0s 2ms/step - loss: 0.4111 - accuracy: 0.8167\n",
            "Epoch 164/200\n",
            "24/24 [==============================] - 0s 2ms/step - loss: 0.3744 - accuracy: 0.8583\n",
            "Epoch 165/200\n",
            "24/24 [==============================] - 0s 2ms/step - loss: 0.3395 - accuracy: 0.8333\n",
            "Epoch 166/200\n",
            "24/24 [==============================] - 0s 2ms/step - loss: 0.4038 - accuracy: 0.8083\n",
            "Epoch 167/200\n",
            "24/24 [==============================] - 0s 2ms/step - loss: 0.3702 - accuracy: 0.8250\n",
            "Epoch 168/200\n",
            "24/24 [==============================] - 0s 2ms/step - loss: 0.4418 - accuracy: 0.8083\n",
            "Epoch 169/200\n",
            "24/24 [==============================] - 0s 2ms/step - loss: 0.3492 - accuracy: 0.8500\n",
            "Epoch 170/200\n",
            "24/24 [==============================] - 0s 2ms/step - loss: 0.4769 - accuracy: 0.7583\n",
            "Epoch 171/200\n",
            "24/24 [==============================] - 0s 2ms/step - loss: 0.3597 - accuracy: 0.8333\n",
            "Epoch 172/200\n",
            "24/24 [==============================] - 0s 2ms/step - loss: 0.4173 - accuracy: 0.8333\n",
            "Epoch 173/200\n",
            "24/24 [==============================] - 0s 2ms/step - loss: 0.3715 - accuracy: 0.8250\n",
            "Epoch 174/200\n",
            "24/24 [==============================] - 0s 2ms/step - loss: 0.4712 - accuracy: 0.8000\n",
            "Epoch 175/200\n",
            "24/24 [==============================] - 0s 2ms/step - loss: 0.3572 - accuracy: 0.8417\n",
            "Epoch 176/200\n",
            "24/24 [==============================] - 0s 2ms/step - loss: 0.3838 - accuracy: 0.8250\n",
            "Epoch 177/200\n",
            "24/24 [==============================] - 0s 2ms/step - loss: 0.3464 - accuracy: 0.8583\n",
            "Epoch 178/200\n",
            "24/24 [==============================] - 0s 2ms/step - loss: 0.3524 - accuracy: 0.8500\n",
            "Epoch 179/200\n",
            "24/24 [==============================] - 0s 2ms/step - loss: 0.4031 - accuracy: 0.8250\n",
            "Epoch 180/200\n",
            "24/24 [==============================] - 0s 2ms/step - loss: 0.3803 - accuracy: 0.7917\n",
            "Epoch 181/200\n",
            "24/24 [==============================] - 0s 2ms/step - loss: 0.3744 - accuracy: 0.8250\n",
            "Epoch 182/200\n",
            "24/24 [==============================] - 0s 2ms/step - loss: 0.3641 - accuracy: 0.8500\n",
            "Epoch 183/200\n",
            "24/24 [==============================] - 0s 2ms/step - loss: 0.4001 - accuracy: 0.8417\n",
            "Epoch 184/200\n",
            "24/24 [==============================] - 0s 2ms/step - loss: 0.4181 - accuracy: 0.7750\n",
            "Epoch 185/200\n",
            "24/24 [==============================] - 0s 2ms/step - loss: 0.3988 - accuracy: 0.8083\n",
            "Epoch 186/200\n",
            "24/24 [==============================] - 0s 2ms/step - loss: 0.3972 - accuracy: 0.8167\n",
            "Epoch 187/200\n",
            "24/24 [==============================] - 0s 2ms/step - loss: 0.3538 - accuracy: 0.8417\n",
            "Epoch 188/200\n",
            "24/24 [==============================] - 0s 2ms/step - loss: 0.4687 - accuracy: 0.7833\n",
            "Epoch 189/200\n",
            "24/24 [==============================] - 0s 2ms/step - loss: 0.4145 - accuracy: 0.8250\n",
            "Epoch 190/200\n",
            "24/24 [==============================] - 0s 2ms/step - loss: 0.3488 - accuracy: 0.8583\n",
            "Epoch 191/200\n",
            "24/24 [==============================] - 0s 2ms/step - loss: 0.3811 - accuracy: 0.8167\n",
            "Epoch 192/200\n",
            "24/24 [==============================] - 0s 2ms/step - loss: 0.4752 - accuracy: 0.7833\n",
            "Epoch 193/200\n",
            "24/24 [==============================] - 0s 2ms/step - loss: 0.3877 - accuracy: 0.8250\n",
            "Epoch 194/200\n",
            "24/24 [==============================] - 0s 2ms/step - loss: 0.3121 - accuracy: 0.8833\n",
            "Epoch 195/200\n",
            "24/24 [==============================] - 0s 2ms/step - loss: 0.3475 - accuracy: 0.8583\n",
            "Epoch 196/200\n",
            "24/24 [==============================] - 0s 2ms/step - loss: 0.4053 - accuracy: 0.8250\n",
            "Epoch 197/200\n",
            "24/24 [==============================] - 0s 2ms/step - loss: 0.3585 - accuracy: 0.8500\n",
            "Epoch 198/200\n",
            "24/24 [==============================] - 0s 2ms/step - loss: 0.3497 - accuracy: 0.8667\n",
            "Epoch 199/200\n",
            "24/24 [==============================] - 0s 2ms/step - loss: 0.3642 - accuracy: 0.8417\n",
            "Epoch 200/200\n",
            "24/24 [==============================] - 0s 2ms/step - loss: 0.3025 - accuracy: 0.8917\n"
          ]
        }
      ],
      "source": [
        "# Train the model\n",
        "history = model.fit(train_x, train_y,\n",
        "                    epochs=200,\n",
        "          batch_size=5)"
      ]
    },
    {
      "cell_type": "markdown",
      "metadata": {
        "id": "8B9MfpSecUih"
      },
      "source": [
        "# <div style=\"direction:rtl;text-align:right;font-family:B Lotus, B Nazanin, Tahoma\">سوال 4:</div>\n",
        "<div style=\"direction:rtl;text-align:right;font-family:Tahoma\">\n",
        "مدل را روی داده های test ارزیابی کنید.\n",
        "<br>\n",
        "<b>راهنمایی: </b>\n",
        "از تابع model.evaluate استفاده کنید.\n",
        "</div>"
      ]
    },
    {
      "cell_type": "code",
      "execution_count": 19,
      "metadata": {
        "id": "hc4s7hXrcUii",
        "outputId": "80ef5a7c-9d82-486b-d2a3-e6059e5ae144",
        "colab": {
          "base_uri": "https://localhost:8080/"
        }
      },
      "outputs": [
        {
          "output_type": "stream",
          "name": "stdout",
          "text": [
            "1/1 [==============================] - 0s 23ms/step - loss: 0.1127 - accuracy: 1.0000\n",
            "Final test set loss: 0.112741\n",
            "Final test set accuracy: 1.000000\n"
          ]
        }
      ],
      "source": [
        "import matplotlib.pyplot as plt\n",
        "\n",
        "#target = np.argmax(test_y, axis=-1)\n",
        "\n",
        "# Test on unseen data\n",
        "results = model.evaluate(test_x, test_y)\n",
        "\n",
        "print('Final test set loss: {:4f}'.format(results[0]))\n",
        "print('Final test set accuracy: {:4f}'.format(results[1]))"
      ]
    }
  ],
  "metadata": {
    "kernelspec": {
      "display_name": "Python 3 (ipykernel)",
      "language": "python",
      "name": "python3"
    },
    "language_info": {
      "codemirror_mode": {
        "name": "ipython",
        "version": 3
      },
      "file_extension": ".py",
      "mimetype": "text/x-python",
      "name": "python",
      "nbconvert_exporter": "python",
      "pygments_lexer": "ipython3",
      "version": "3.8.10"
    },
    "colab": {
      "provenance": [],
      "include_colab_link": true
    }
  },
  "nbformat": 4,
  "nbformat_minor": 0
}
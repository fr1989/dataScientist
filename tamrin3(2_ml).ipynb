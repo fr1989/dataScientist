{
  "nbformat": 4,
  "nbformat_minor": 0,
  "metadata": {
    "colab": {
      "provenance": [],
      "authorship_tag": "ABX9TyPwc21RtNxBfh2sCgWBOQoG",
      "include_colab_link": true
    },
    "kernelspec": {
      "name": "python3",
      "display_name": "Python 3"
    },
    "language_info": {
      "name": "python"
    }
  },
  "cells": [
    {
      "cell_type": "markdown",
      "metadata": {
        "id": "view-in-github",
        "colab_type": "text"
      },
      "source": [
        "<a href=\"https://colab.research.google.com/github/fr1989/dataScientist/blob/main/tamrin3(2_ml).ipynb\" target=\"_parent\"><img src=\"https://colab.research.google.com/assets/colab-badge.svg\" alt=\"Open In Colab\"/></a>"
      ]
    },
    {
      "cell_type": "code",
      "source": [
        "#!wget https://raw.githubusercontent.com/fr1989/dataScientist/main/master/dataset.py\n",
        "#!wget https://github.com/fr1989/dataScientist/blob/main/master/dataset/Data_hoda_full.mat -P dataset"
      ],
      "metadata": {
        "id": "KrbtthiB3CVh",
        "colab": {
          "base_uri": "https://localhost:8080/"
        },
        "outputId": "c9e7d7df-a122-4cd7-b961-ee0031d7c572"
      },
      "execution_count": 2,
      "outputs": [
        {
          "output_type": "stream",
          "name": "stdout",
          "text": [
            "--2024-05-28 15:59:39--  https://github.com/fr1989/dataScientist/blob/main/master/dataset/Data_hoda_full.mat\n",
            "Resolving github.com (github.com)... 140.82.114.3\n",
            "Connecting to github.com (github.com)|140.82.114.3|:443... connected.\n",
            "HTTP request sent, awaiting response... 200 OK\n",
            "Length: unspecified [text/html]\n",
            "Saving to: ‘dataset/Data_hoda_full.mat’\n",
            "\n",
            "Data_hoda_full.mat      [ <=>                ] 259.55K  1.42MB/s    in 0.2s    \n",
            "\n",
            "2024-05-28 15:59:40 (1.42 MB/s) - ‘dataset/Data_hoda_full.mat’ saved [265780]\n",
            "\n"
          ]
        }
      ]
    },
    {
      "cell_type": "code",
      "execution_count": 3,
      "metadata": {
        "id": "f8sTNm8xLmw3"
      },
      "outputs": [],
      "source": [
        "from sklearn.neighbors import KNeighborsClassifier\n",
        "import matplotlib.pyplot as plt\n",
        "from sklearn.metrics import accuracy_score\n",
        "import numpy as np\n",
        "import pickle\n",
        "\n",
        "from dataset import load_hoda"
      ]
    },
    {
      "cell_type": "code",
      "source": [
        "X_train, y_train, X_test, y_test = load_hoda(1000,200,15)"
      ],
      "metadata": {
        "id": "oCTUiaDrOpmg"
      },
      "execution_count": 6,
      "outputs": []
    },
    {
      "cell_type": "code",
      "source": [
        "knn = KNeighborsClassifier(n_neighbors=3)\n",
        "knn.fit(X_train, y_train)\n",
        "\n",
        "pickle_file = \"best_knn_model.pkl\"\n",
        "with open(pickle_file, 'wb') as file:\n",
        "    pickle.dump(knn, file)"
      ],
      "metadata": {
        "id": "hd0IgciePAuJ"
      },
      "execution_count": 8,
      "outputs": []
    },
    {
      "cell_type": "code",
      "source": [
        "pickle_file = \"best_knn_model.pkl\"\n",
        "with open(pickle_file, 'rb') as file:\n",
        "    loaded_knn = pickle.load(file)"
      ],
      "metadata": {
        "id": "6IsfJ25jYxf9"
      },
      "execution_count": 9,
      "outputs": []
    },
    {
      "cell_type": "code",
      "source": [
        "from PIL import Image\n",
        "import cv2\n",
        "target_size = (15, 15)\n",
        "# Preprocess the test image\n",
        "image_path = \"adad.png\"\n",
        "image = Image.open(image_path)\n",
        "\n",
        "# Convert image to grayscale (1 channel)\n",
        "image = image.convert('L')\n",
        "\n",
        "image_array = np.array(image)\n",
        "\n",
        "print(image_array.shape)\n",
        "\n",
        "image_array = cv2.resize(image_array,(15,15))\n",
        "\n",
        "image_array = np.reshape(image_array, [-1,15**2])\n",
        "\n",
        "# Use the loaded model to make predictions\n",
        "prediction = loaded_knn.predict(image_array)\n",
        "print(\"Prediction:\", prediction)\n",
        "\n",
        "# Optionally, display the image\n",
        "plt.imshow(np.array(Image.open(image_path)), cmap='gray')\n",
        "plt.title(f\"Predicted Label: {prediction[0]}\")\n",
        "plt.show()"
      ],
      "metadata": {
        "colab": {
          "base_uri": "https://localhost:8080/",
          "height": 488
        },
        "id": "1xJWbf1vZsFA",
        "outputId": "932dd116-0f02-4247-a8b0-dafe48ea9dda"
      },
      "execution_count": 11,
      "outputs": [
        {
          "output_type": "stream",
          "name": "stdout",
          "text": [
            "(78, 61)\n",
            "Prediction: [3]\n"
          ]
        },
        {
          "output_type": "display_data",
          "data": {
            "text/plain": [
              "<Figure size 640x480 with 1 Axes>"
            ],
            "image/png": "[encoded data removed]"
          },
          "metadata": {}
        }
      ]
    }
  ]
}